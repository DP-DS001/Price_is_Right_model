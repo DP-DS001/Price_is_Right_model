{
  "nbformat": 4,
  "nbformat_minor": 0,
  "metadata": {
    "colab": {
      "name": "Linear_Gradient_Light",
      "provenance": []
    },
    "kernelspec": {
      "name": "python3",
      "display_name": "Python 3"
    },
    "accelerator": "GPU"
  },
  "cells": [
    {
      "cell_type": "code",
      "metadata": {
        "id": "NQZLUSyx5G61",
        "colab_type": "code",
        "outputId": "72f9bc5f-9306-40f9-f9d8-d1148b8c98ce",
        "colab": {
          "base_uri": "https://localhost:8080/",
          "height": 128
        }
      },
      "source": [
        "!pip install lightgbm"
      ],
      "execution_count": 0,
      "outputs": [
        {
          "output_type": "stream",
          "text": [
            "Requirement already satisfied: lightgbm in /usr/local/lib/python3.6/dist-packages (2.2.3)\n",
            "Requirement already satisfied: scikit-learn in /usr/local/lib/python3.6/dist-packages (from lightgbm) (0.22.2.post1)\n",
            "Requirement already satisfied: scipy in /usr/local/lib/python3.6/dist-packages (from lightgbm) (1.4.1)\n",
            "Requirement already satisfied: numpy in /usr/local/lib/python3.6/dist-packages (from lightgbm) (1.18.4)\n",
            "Requirement already satisfied: joblib>=0.11 in /usr/local/lib/python3.6/dist-packages (from scikit-learn->lightgbm) (0.15.1)\n"
          ],
          "name": "stdout"
        }
      ]
    },
    {
      "cell_type": "code",
      "metadata": {
        "id": "lZCgugvHRmCe",
        "colab_type": "code",
        "colab": {}
      },
      "source": [
        "from google.colab import auth\n",
        "auth.authenticate_user()\n",
        "\n",
        "import gspread\n",
        "from oauth2client.client import GoogleCredentials\n",
        "\n",
        "gc = gspread.authorize(GoogleCredentials.get_application_default())"
      ],
      "execution_count": 0,
      "outputs": []
    },
    {
      "cell_type": "code",
      "metadata": {
        "id": "K2yA3jmWR8BM",
        "colab_type": "code",
        "colab": {}
      },
      "source": [
        "worksheet = gc.open('data_nlp').sheet1"
      ],
      "execution_count": 0,
      "outputs": []
    },
    {
      "cell_type": "code",
      "metadata": {
        "id": "BZx9PkhgSAfB",
        "colab_type": "code",
        "outputId": "893f9267-7ae5-4bb3-fa72-64be99a9e545",
        "colab": {
          "base_uri": "https://localhost:8080/",
          "height": 74
        }
      },
      "source": [
        "from sklearn.model_selection import train_test_split\n",
        "from sklearn import metrics\n",
        "import pandas as pd\n",
        "import numpy as np\n",
        "import seaborn as sns\n",
        "import matplotlib.pyplot as plt\n",
        "import re "
      ],
      "execution_count": 0,
      "outputs": [
        {
          "output_type": "stream",
          "text": [
            "/usr/local/lib/python3.6/dist-packages/statsmodels/tools/_testing.py:19: FutureWarning: pandas.util.testing is deprecated. Use the functions in the public API at pandas.testing instead.\n",
            "  import pandas.util.testing as tm\n"
          ],
          "name": "stderr"
        }
      ]
    },
    {
      "cell_type": "code",
      "metadata": {
        "id": "ZIcbIDNQVwEg",
        "colab_type": "code",
        "outputId": "d60e038b-766f-43ad-f8c8-2343aaaa77c3",
        "colab": {
          "base_uri": "https://localhost:8080/",
          "height": 199
        }
      },
      "source": [
        "rows = worksheet.get_all_values()\n",
        "print(rows)\n",
        "nlp = pd.DataFrame.from_records(rows)"
      ],
      "execution_count": 0,
      "outputs": [
        {
          "output_type": "stream",
          "text": [
            "IOPub data rate exceeded.\n",
            "The notebook server will temporarily stop sending output\n",
            "to the client in order to avoid crashing it.\n",
            "To change this limit, set the config variable\n",
            "`--NotebookApp.iopub_data_rate_limit`.\n",
            "\n",
            "Current values:\n",
            "NotebookApp.iopub_data_rate_limit=1000000.0 (bytes/sec)\n",
            "NotebookApp.rate_limit_window=3.0 (secs)\n",
            "\n"
          ],
          "name": "stderr"
        }
      ]
    },
    {
      "cell_type": "code",
      "metadata": {
        "id": "W_ZetTpjWG42",
        "colab_type": "code",
        "outputId": "2fdbb7d2-b118-4ae5-94c9-f42a4c5c88f6",
        "colab": {
          "base_uri": "https://localhost:8080/",
          "height": 371
        }
      },
      "source": [
        "header = nlp.iloc[0]\n",
        "nlp = nlp[1:]\n",
        "nlp.columns = header\n",
        "nlp.head()"
      ],
      "execution_count": 0,
      "outputs": [
        {
          "output_type": "execute_result",
          "data": {
            "text/html": [
              "<div>\n",
              "<style scoped>\n",
              "    .dataframe tbody tr th:only-of-type {\n",
              "        vertical-align: middle;\n",
              "    }\n",
              "\n",
              "    .dataframe tbody tr th {\n",
              "        vertical-align: top;\n",
              "    }\n",
              "\n",
              "    .dataframe thead th {\n",
              "        text-align: right;\n",
              "    }\n",
              "</style>\n",
              "<table border=\"1\" class=\"dataframe\">\n",
              "  <thead>\n",
              "    <tr style=\"text-align: right;\">\n",
              "      <th></th>\n",
              "      <th>id</th>\n",
              "      <th>price</th>\n",
              "      <th>brand</th>\n",
              "      <th>description</th>\n",
              "      <th>categories</th>\n",
              "      <th>sub_category</th>\n",
              "    </tr>\n",
              "  </thead>\n",
              "  <tbody>\n",
              "    <tr>\n",
              "      <th>1</th>\n",
              "      <td>eac7efa5dbd3d667f26eb3d3ab504464</td>\n",
              "      <td>4</td>\n",
              "      <td>Hornby</td>\n",
              "      <td>Product Description Hornby 2014 Catalogue Box ...</td>\n",
              "      <td>Toys</td>\n",
              "      <td>Model Trains &amp; Railway Sets</td>\n",
              "    </tr>\n",
              "    <tr>\n",
              "      <th>2</th>\n",
              "      <td>b17540ef7e86e461d37f3ae58b7b72ac</td>\n",
              "      <td>21</td>\n",
              "      <td>FunkyBuys</td>\n",
              "      <td>Size Name:Large FunkyBuys® Large Christmas Hol...</td>\n",
              "      <td>Toys</td>\n",
              "      <td>Model Trains &amp; Railway Sets</td>\n",
              "    </tr>\n",
              "    <tr>\n",
              "      <th>3</th>\n",
              "      <td>348f344247b0c1a935b1223072ef9d8a</td>\n",
              "      <td>12</td>\n",
              "      <td>ccf</td>\n",
              "      <td>BIG CLASSIC TOY TRAIN SET TRACK CARRIAGE LIGHT...</td>\n",
              "      <td>Toys</td>\n",
              "      <td>Model Trains &amp; Railway Sets</td>\n",
              "    </tr>\n",
              "    <tr>\n",
              "      <th>4</th>\n",
              "      <td>e12b92dbb8eaee78b22965d2a9bbbd9f</td>\n",
              "      <td>49</td>\n",
              "      <td>Hornby</td>\n",
              "      <td>Hornby 00 Gauge BR Hawksworth 3rd Class W 2107...</td>\n",
              "      <td>Toys</td>\n",
              "      <td>Model Trains &amp; Railway Sets</td>\n",
              "    </tr>\n",
              "    <tr>\n",
              "      <th>5</th>\n",
              "      <td>e33a9adeed5f36840ccc227db4682a36</td>\n",
              "      <td>40</td>\n",
              "      <td>Hornby</td>\n",
              "      <td>Product Description Hornby RailRoad 0-4-0 Gild...</td>\n",
              "      <td>Toys</td>\n",
              "      <td>Model Trains &amp; Railway Sets</td>\n",
              "    </tr>\n",
              "  </tbody>\n",
              "</table>\n",
              "</div>"
            ],
            "text/plain": [
              "0                                id  ...                 sub_category\n",
              "1  eac7efa5dbd3d667f26eb3d3ab504464  ...  Model Trains & Railway Sets\n",
              "2  b17540ef7e86e461d37f3ae58b7b72ac  ...  Model Trains & Railway Sets\n",
              "3  348f344247b0c1a935b1223072ef9d8a  ...  Model Trains & Railway Sets\n",
              "4  e12b92dbb8eaee78b22965d2a9bbbd9f  ...  Model Trains & Railway Sets\n",
              "5  e33a9adeed5f36840ccc227db4682a36  ...  Model Trains & Railway Sets\n",
              "\n",
              "[5 rows x 6 columns]"
            ]
          },
          "metadata": {
            "tags": []
          },
          "execution_count": 5
        }
      ]
    },
    {
      "cell_type": "code",
      "metadata": {
        "id": "i50XXGI7c0V5",
        "colab_type": "code",
        "colab": {}
      },
      "source": [
        "nlp['concat'] = nlp['brand'] + \" \" + nlp['description'] + \" \" +nlp['categories'] + \" \" + nlp['sub_category']"
      ],
      "execution_count": 0,
      "outputs": []
    },
    {
      "cell_type": "code",
      "metadata": {
        "id": "CtEB-P65aXfk",
        "colab_type": "code",
        "colab": {}
      },
      "source": [
        "X = nlp['concat']\n",
        "y = nlp['price']"
      ],
      "execution_count": 0,
      "outputs": []
    },
    {
      "cell_type": "code",
      "metadata": {
        "id": "1weoVsLJWL87",
        "colab_type": "code",
        "colab": {}
      },
      "source": [
        "X_train, X_test, y_train, y_test = train_test_split(X, y, test_size=0.3)"
      ],
      "execution_count": 0,
      "outputs": []
    },
    {
      "cell_type": "code",
      "metadata": {
        "id": "u7KpoMDcb81z",
        "colab_type": "code",
        "colab": {}
      },
      "source": [
        "seed = 101"
      ],
      "execution_count": 0,
      "outputs": []
    },
    {
      "cell_type": "code",
      "metadata": {
        "id": "UbvB6br6bQ40",
        "colab_type": "code",
        "colab": {}
      },
      "source": [
        "from sklearn.feature_extraction.text import CountVectorizer\n",
        "from sklearn.linear_model import LinearRegression\n",
        "from sklearn import metrics\n",
        "\n",
        "def tokenizer(text):\n",
        "    return re.findall(r'[a-z0-9]+', text.lower())\n",
        "\n",
        "vect = CountVectorizer(tokenizer=tokenizer)\n",
        "regressor = LinearRegression()  \n"
      ],
      "execution_count": 0,
      "outputs": []
    },
    {
      "cell_type": "code",
      "metadata": {
        "id": "8h32ToGAb_oN",
        "colab_type": "code",
        "colab": {}
      },
      "source": [
        "X_train_vect = vect.fit_transform(X_train)\n",
        "X_test_vect = vect.transform(X_test)"
      ],
      "execution_count": 0,
      "outputs": []
    },
    {
      "cell_type": "code",
      "metadata": {
        "id": "_k4PzFale8zO",
        "colab_type": "code",
        "outputId": "9821f280-3d9a-4a82-fcbd-63c7cab43075",
        "colab": {
          "base_uri": "https://localhost:8080/",
          "height": 35
        }
      },
      "source": [
        "regressor.fit(X_train_vect, y_train)\n",
        "y_pred = regressor.predict(X_test_vect)\n",
        "print('Mean Absolute Error:', metrics.mean_absolute_error(y_test, y_pred))"
      ],
      "execution_count": 0,
      "outputs": [
        {
          "output_type": "stream",
          "text": [
            "Mean Absolute Error: 262.24980644765856\n"
          ],
          "name": "stdout"
        }
      ]
    },
    {
      "cell_type": "code",
      "metadata": {
        "id": "mTwk4s1HxSC_",
        "colab_type": "code",
        "colab": {}
      },
      "source": [
        "from sklearn import ensemble\n",
        "clf = ensemble.GradientBoostingRegressor(n_estimators=400, max_depth= 5, min_samples_split= 2,\n",
        "                                         learning_rate= 0.1, loss= 'ls')"
      ],
      "execution_count": 0,
      "outputs": []
    },
    {
      "cell_type": "code",
      "metadata": {
        "id": "-eSY_tYR2qaV",
        "colab_type": "code",
        "outputId": "56665dd8-a674-4166-eeb9-b7fc7f7e1e64",
        "colab": {
          "base_uri": "https://localhost:8080/",
          "height": 181
        }
      },
      "source": [
        "clf.fit(X_train_vect, y_train)"
      ],
      "execution_count": 0,
      "outputs": [
        {
          "output_type": "execute_result",
          "data": {
            "text/plain": [
              "GradientBoostingRegressor(alpha=0.9, ccp_alpha=0.0, criterion='friedman_mse',\n",
              "                          init=None, learning_rate=0.1, loss='ls', max_depth=5,\n",
              "                          max_features=None, max_leaf_nodes=None,\n",
              "                          min_impurity_decrease=0.0, min_impurity_split=None,\n",
              "                          min_samples_leaf=1, min_samples_split=2,\n",
              "                          min_weight_fraction_leaf=0.0, n_estimators=400,\n",
              "                          n_iter_no_change=None, presort='deprecated',\n",
              "                          random_state=None, subsample=1.0, tol=0.0001,\n",
              "                          validation_fraction=0.1, verbose=0, warm_start=False)"
            ]
          },
          "metadata": {
            "tags": []
          },
          "execution_count": 17
        }
      ]
    },
    {
      "cell_type": "code",
      "metadata": {
        "id": "sOCYgi0V6lkw",
        "colab_type": "code",
        "colab": {}
      },
      "source": [
        "y_pred = clf.predict(X_test_vect)"
      ],
      "execution_count": 0,
      "outputs": []
    },
    {
      "cell_type": "code",
      "metadata": {
        "id": "Kv_1qBEe3EYg",
        "colab_type": "code",
        "outputId": "5cf330fa-7446-44c7-cd1f-0aa8b7bee521",
        "colab": {
          "base_uri": "https://localhost:8080/",
          "height": 35
        }
      },
      "source": [
        "clf.score(X_test_vect, y_test)"
      ],
      "execution_count": 0,
      "outputs": [
        {
          "output_type": "execute_result",
          "data": {
            "text/plain": [
              "0.9180603233132953"
            ]
          },
          "metadata": {
            "tags": []
          },
          "execution_count": 38
        }
      ]
    },
    {
      "cell_type": "code",
      "metadata": {
        "id": "CFhFVs6c6ZnO",
        "colab_type": "code",
        "outputId": "e71bd60b-2df8-4861-8fff-bb742be81be3",
        "colab": {
          "base_uri": "https://localhost:8080/",
          "height": 35
        }
      },
      "source": [
        "print('Mean Absolute Error:', metrics.mean_absolute_error(y_test, y_pred))"
      ],
      "execution_count": 0,
      "outputs": [
        {
          "output_type": "stream",
          "text": [
            "Mean Absolute Error: 64.17906475088436\n"
          ],
          "name": "stdout"
        }
      ]
    },
    {
      "cell_type": "code",
      "metadata": {
        "id": "qQ0atZMExIcE",
        "colab_type": "code",
        "colab": {}
      },
      "source": [
        "from lightgbm import LGBMRegressor\n",
        "from sklearn.model_selection import cross_val_score, learning_curve, ShuffleSplit, RandomizedSearchCV"
      ],
      "execution_count": 0,
      "outputs": []
    },
    {
      "cell_type": "code",
      "metadata": {
        "id": "dWOZwBDd1xGl",
        "colab_type": "code",
        "colab": {}
      },
      "source": [
        "lgb = LGBMRegressor(objective = 'regression_l1',\n",
        "                    subsample = 0.1,\n",
        "                     random_state = 0,\n",
        "                     num_leaves = 120,\n",
        "                     n_estimators = 1000,\n",
        "                     min_split_gain = 0.06999,\n",
        "                     min_data_in_leaf = 12,\n",
        "                     max_depth = 56,\n",
        "                     learning_rate = 0.005,\n",
        "                     colsample_bytree = 0.4,\n",
        "                     boosting_type = 'gbdt')"
      ],
      "execution_count": 0,
      "outputs": []
    },
    {
      "cell_type": "code",
      "metadata": {
        "id": "gckcvdTI7KwD",
        "colab_type": "code",
        "colab": {}
      },
      "source": [
        "lgb.fit(X_train_vect, y_train)\n",
        "#preds = lgb.predict(X_test_vect)"
      ],
      "execution_count": 0,
      "outputs": []
    }
  ]
}